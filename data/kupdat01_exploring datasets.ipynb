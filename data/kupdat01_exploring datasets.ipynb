{
 "cells": [
  {
   "cell_type": "markdown",
   "id": "591b2407",
   "metadata": {},
   "source": [
    "### Exploring Datasets"
   ]
  },
  {
   "cell_type": "code",
   "execution_count": 2,
   "id": "caca4934",
   "metadata": {},
   "outputs": [],
   "source": [
    "import sys\n",
    "from pathlib import Path\n",
    "import pyarrow.parquet as pq\n",
    "import pyarrow.dataset as ds\n",
    "\n",
    "sys.path.append(str(Path.cwd().parent))\n",
    "from config import PATH_KIOSK_USER_PATTERNS_FOLDER, PATH_KIOSK_USER_PATTERNS_REPO\n",
    "\n",
    "# Example usage\n",
    "ekdat02_path = PATH_KIOSK_USER_PATTERNS_FOLDER / \"working/raw\" / \"ekdat02\"\n",
    "ekdat02_supplemental_path = PATH_KIOSK_USER_PATTERNS_FOLDER / \"working/raw\" / \"ekdat02-supplemental\""
   ]
  },
  {
   "cell_type": "markdown",
   "id": "0ac4204f",
   "metadata": {},
   "source": [
    "Print the first 10 rows of ekdat02"
   ]
  },
  {
   "cell_type": "code",
   "execution_count": 3,
   "id": "af64fe1a",
   "metadata": {},
   "outputs": [
    {
     "name": "stdout",
     "output_type": "stream",
     "text": [
      "                                     session_id_mask account_id_mask  \\\n",
      "0  675573e6e2afd0e84530a764385ef992ff2538a81c1377...                   \n",
      "1  05e1a8a5c86f97492cc0acbd6f31521948a01e09854416...                   \n",
      "2  5539917ce21a23ee1f7b11c36e70ab491c266b0fd6c4db...                   \n",
      "3  8547ab17bc93662b9fe2c13e1ac202952a6b982de712f8...                   \n",
      "4  5200791b64d0b1ea30584de86f0dd7dd1b5a8c9f089cc8...                   \n",
      "5  215ff18b80365f6d9752013b211cc61c5047fdc1ff41d2...                   \n",
      "6  972e699026fae6e3c0958bbebab027d4a790f1a57a5dcb...                   \n",
      "7  6cea76b5de278c225f25b5764729fa5fa5e2a2db32dd51...                   \n",
      "8  d397ff7ee6d48fff55d813daa0727d7ba32704029387f4...                   \n",
      "9  cf1d4030ebebed0d6d2cfb2f061781cf81cb824184fb01...                   \n",
      "\n",
      "                                    pseudo_member_id session_received_utc  \\\n",
      "0  8ddd1b9efc371261768bb03117ed0d01a82c47beaf586f...  2024-01-01 00:59:15   \n",
      "1  b48f072e697ee2ccf80051fff9d7a1f848799dfc92d1cb...  2024-01-01 15:30:33   \n",
      "2  08b997b168d92da4cf3d17d16148e0a3ddaa80dc543f28...  2024-01-01 18:32:33   \n",
      "3  bf8b9f167eac480e7a8c872130976bd0ba4a15a5871381...  2024-01-01 20:08:46   \n",
      "4  1017877378e70ea0127429ad9652daf04203be679ae144...  2024-01-01 21:35:24   \n",
      "5  30594eb2330253fc6cf9f0f85e020fa325e62d7029e8d4...  2024-01-02 00:55:04   \n",
      "6  94d564c8511c976db86938a967c1da13915282eae4c0ee...  2024-01-02 15:30:49   \n",
      "7  63fd0daf1c93575915ccc124dad3486bfab02d0dcba8a0...  2024-01-02 21:15:31   \n",
      "8                                                     2024-01-03 03:37:26   \n",
      "9                                                     2024-01-03 03:39:16   \n",
      "\n",
      "  session_started_local_time timezone_offset       location_name  \\\n",
      "0        2023-12-31 18:56:13          -21600  Walmart-604 Dothan   \n",
      "1        2024-01-01 09:25:36          -21600  Walmart-604 Dothan   \n",
      "2        2024-01-01 12:27:29          -21600  Walmart-604 Dothan   \n",
      "3        2024-01-01 14:05:47          -21600  Walmart-604 Dothan   \n",
      "4        2024-01-01 15:32:44          -21600  Walmart-604 Dothan   \n",
      "5        2024-01-01 18:51:14          -21600  Walmart-604 Dothan   \n",
      "6        2024-01-02 09:27:32          -21600  Walmart-604 Dothan   \n",
      "7        2024-01-02 15:12:20          -21600  Walmart-604 Dothan   \n",
      "8        2024-01-02 21:34:12          -21600  Walmart-604 Dothan   \n",
      "9        2024-01-02 21:36:28          -21600  Walmart-604 Dothan   \n",
      "\n",
      "               street1 street2    city  ... birth_year  gender ethnicity  \\\n",
      "0  4310 Montgomery Hwy          Dothan  ...       1966    male     white   \n",
      "1  4310 Montgomery Hwy          Dothan  ...       1943  female     white   \n",
      "2  4310 Montgomery Hwy          Dothan  ...       1992  female     black   \n",
      "3  4310 Montgomery Hwy          Dothan  ...       1986    male     white   \n",
      "4  4310 Montgomery Hwy          Dothan  ...       1979    male     white   \n",
      "5  4310 Montgomery Hwy          Dothan  ...       1966  female     white   \n",
      "6  4310 Montgomery Hwy          Dothan  ...       1991    male     black   \n",
      "7  4310 Montgomery Hwy          Dothan  ...       2005  female  hispanic   \n",
      "8  4310 Montgomery Hwy          Dothan  ...       1974    male             \n",
      "9  4310 Montgomery Hwy          Dothan  ...       1974    male             \n",
      "\n",
      "  height_inches weight_lbs bmi bp_systolic bp_diastolic bp_map    year  \n",
      "0                                      175           89    118  2024.0  \n",
      "1                                      107           64     78  2024.0  \n",
      "2                                       97           65     76  2024.0  \n",
      "3                                      124           83     97  2024.0  \n",
      "4                                      123           84     97  2024.0  \n",
      "5                                      153           78    103  2024.0  \n",
      "6                                      191           98    129  2024.0  \n",
      "7                                       92           63     73  2024.0  \n",
      "8                                      140           88    105  2024.0  \n",
      "9                                      144           97    113  2024.0  \n",
      "\n",
      "[10 rows x 22 columns]\n"
     ]
    }
   ],
   "source": [
    "\n",
    "ekdat02_df = ds.dataset(ekdat02_path, format=\"parquet\")\n",
    "table = ekdat02_df.head(10)  # Reads only the first 10 rows efficiently\n",
    "df = table.to_pandas()\n",
    "print(df)"
   ]
  },
  {
   "cell_type": "markdown",
   "id": "30eccaa4",
   "metadata": {},
   "source": [
    "Print the first 10 rows of ekdat02_supplemental"
   ]
  },
  {
   "cell_type": "code",
   "execution_count": 4,
   "id": "e117b401",
   "metadata": {},
   "outputs": [
    {
     "name": "stdout",
     "output_type": "stream",
     "text": [
      "                                     session_id_mask account_id_mask  \\\n",
      "0  f6d8b5cbdf3a20341740acfa68b26108101b92d1290f3e...                   \n",
      "1  f6d8b5cbdf3a20341740acfa68b26108101b92d1290f3e...                   \n",
      "2  f6d8b5cbdf3a20341740acfa68b26108101b92d1290f3e...                   \n",
      "3  f6d8b5cbdf3a20341740acfa68b26108101b92d1290f3e...                   \n",
      "4  f6d8b5cbdf3a20341740acfa68b26108101b92d1290f3e...                   \n",
      "5  f6d8b5cbdf3a20341740acfa68b26108101b92d1290f3e...                   \n",
      "6  f6d8b5cbdf3a20341740acfa68b26108101b92d1290f3e...                   \n",
      "7  f6d8b5cbdf3a20341740acfa68b26108101b92d1290f3e...                   \n",
      "8  f6d8b5cbdf3a20341740acfa68b26108101b92d1290f3e...                   \n",
      "9  f6d8b5cbdf3a20341740acfa68b26108101b92d1290f3e...                   \n",
      "\n",
      "                                    pseudo_member_id survey_path  \\\n",
      "0  69b4cc44d0bd12c2c79541fd89e59ed1bd02b1fb725344...          bp   \n",
      "1  69b4cc44d0bd12c2c79541fd89e59ed1bd02b1fb725344...          bp   \n",
      "2  69b4cc44d0bd12c2c79541fd89e59ed1bd02b1fb725344...          bp   \n",
      "3  69b4cc44d0bd12c2c79541fd89e59ed1bd02b1fb725344...          bp   \n",
      "4  69b4cc44d0bd12c2c79541fd89e59ed1bd02b1fb725344...          bp   \n",
      "5  69b4cc44d0bd12c2c79541fd89e59ed1bd02b1fb725344...          bp   \n",
      "6  69b4cc44d0bd12c2c79541fd89e59ed1bd02b1fb725344...          bp   \n",
      "7  69b4cc44d0bd12c2c79541fd89e59ed1bd02b1fb725344...          bp   \n",
      "8  69b4cc44d0bd12c2c79541fd89e59ed1bd02b1fb725344...          bp   \n",
      "9  69b4cc44d0bd12c2c79541fd89e59ed1bd02b1fb725344...          bp   \n",
      "\n",
      "                       data_label_name value             captured  \\\n",
      "0               currently_pregnant_yes     0  2024-01-01 16:04:34   \n",
      "1                         diabetes_yes     0  2024-01-01 16:04:34   \n",
      "2          health_conditions_arthritis     0  2024-01-01 16:04:34   \n",
      "3             health_conditions_asthma     0  2024-01-01 16:04:34   \n",
      "4          health_conditions_back_pain     0  2024-01-01 16:04:34   \n",
      "5             health_conditions_cancer     0  2024-01-01 16:04:34   \n",
      "6     health_conditions_heart_problems     0  2024-01-01 16:04:34   \n",
      "7  health_conditions_none_of_the_above     1  2024-01-01 16:04:34   \n",
      "8                        allergies_yes     0  2024-01-01 16:04:34   \n",
      "9      health_conditions_skin_problems     0  2024-01-01 16:04:34   \n",
      "\n",
      "                  date_time    year  \n",
      "0 2024-01-01 16:04:34+00:00  2024.0  \n",
      "1 2024-01-01 16:04:34+00:00  2024.0  \n",
      "2 2024-01-01 16:04:34+00:00  2024.0  \n",
      "3 2024-01-01 16:04:34+00:00  2024.0  \n",
      "4 2024-01-01 16:04:34+00:00  2024.0  \n",
      "5 2024-01-01 16:04:34+00:00  2024.0  \n",
      "6 2024-01-01 16:04:34+00:00  2024.0  \n",
      "7 2024-01-01 16:04:34+00:00  2024.0  \n",
      "8 2024-01-01 16:04:34+00:00  2024.0  \n",
      "9 2024-01-01 16:04:34+00:00  2024.0  \n"
     ]
    }
   ],
   "source": [
    "\n",
    "ekdat02_supplemental_df = ds.dataset(ekdat02_supplemental_path, format=\"parquet\")\n",
    "table = ekdat02_supplemental_df.head(10)  # Reads only the first 10 rows efficiently\n",
    "df = table.to_pandas()\n",
    "print(df)"
   ]
  }
 ],
 "metadata": {
  "kernelspec": {
   "display_name": "Python 3",
   "language": "python",
   "name": "python3"
  },
  "language_info": {
   "codemirror_mode": {
    "name": "ipython",
    "version": 3
   },
   "file_extension": ".py",
   "mimetype": "text/x-python",
   "name": "python",
   "nbconvert_exporter": "python",
   "pygments_lexer": "ipython3",
   "version": "3.13.1"
  }
 },
 "nbformat": 4,
 "nbformat_minor": 5
}
