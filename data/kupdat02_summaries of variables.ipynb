{
 "cells": [
  {
   "cell_type": "code",
   "execution_count": 1,
   "id": "25c19f6e",
   "metadata": {},
   "outputs": [],
   "source": [
    "import sys\n",
    "from pathlib import Path\n",
    "import pyarrow.parquet as pq\n",
    "import pyarrow.dataset as ds\n",
    "\n",
    "sys.path.append(str(Path.cwd().parent))\n",
    "from config import PATH_KIOSK_USER_PATTERNS_FOLDER, PATH_KIOSK_USER_PATTERNS_REPO\n",
    "\n",
    "# Example usage\n",
    "ekdat02_path = PATH_KIOSK_USER_PATTERNS_FOLDER / \"working/raw\" / \"ekdat02\"\n",
    "ekdat02_supplemental_path = PATH_KIOSK_USER_PATTERNS_FOLDER / \"working/raw\" / \"ekdat02-supplemental\""
   ]
  },
  {
   "cell_type": "code",
   "execution_count": null,
   "id": "480280b9",
   "metadata": {},
   "outputs": [],
   "source": [
    "# Load the Parquet dataset ekdat02\n",
    "ekdat02_dataset = ds.dataset(ekdat02_path, format=\"parquet\")\n",
    "\n",
    "\n",
    "# Print the count of rows in the dataset ekdat02\n",
    "print(f\"ekdat02 dataset row count: {ekdat02_dataset.count_rows()}\")"
   ]
  },
  {
   "cell_type": "code",
   "execution_count": null,
   "id": "b6d00d92",
   "metadata": {},
   "outputs": [],
   "source": [
    "# Load the Parquet dataset ekdat02_supplemental\n",
    "ekdat02_supplemental_dataset = ds.dataset(ekdat02_supplemental_path, format=\"parquet\")\n",
    "\n",
    "\n",
    "# Print the count of rows in the dataset ekdat02_supplemental\n",
    "print(f\"ekdat02_supplemental dataset row count: {ekdat02_supplemental_dataset.count_rows()}\")"
   ]
  },
  {
   "cell_type": "code",
   "execution_count": 3,
   "id": "3b14f85b",
   "metadata": {},
   "outputs": [],
   "source": [
    "# Plot the number of unique sessions per month in ekdat02\n"
   ]
  },
  {
   "cell_type": "code",
   "execution_count": 4,
   "id": "e90c4d87",
   "metadata": {},
   "outputs": [],
   "source": [
    "# Plot the number of unique sessions per month in ekdat02_supplemental\n"
   ]
  },
  {
   "cell_type": "code",
   "execution_count": null,
   "id": "65e26fff",
   "metadata": {},
   "outputs": [],
   "source": [
    "# Plot a bar chart of unique questions answered in ekdat02_supplemental in 2024"
   ]
  },
  {
   "cell_type": "markdown",
   "id": "4c6d3d3d",
   "metadata": {},
   "source": [
    "### Initial user patterns\n",
    "\n",
    "There are many ways to capture user patterns. One such way is to conduct an unsupervised cluster analysis of users by what questions they chose to respond to.\n",
    "\n",
    "1. Subset the patients for June to September 2024\n",
    "2. Create a wide dataset such that each session is a row, and all questions associated with that session and its associated value is the column. Feel free to drop extra columns before that. Do let me know if you have any questions.\n",
    "3. Fill in the missing values for all questions with 0\n",
    "4. Run a cluster analysis so that you can see whether users responded to groups of questions and what those questions are: https://docs.scipy.org/doc/scipy/reference/generated/scipy.cluster.hierarchy.dendrogram.html\n"
   ]
  },
  {
   "cell_type": "code",
   "execution_count": null,
   "id": "7547934e",
   "metadata": {},
   "outputs": [],
   "source": []
  }
 ],
 "metadata": {
  "kernelspec": {
   "display_name": "Python 3",
   "language": "python",
   "name": "python3"
  },
  "language_info": {
   "codemirror_mode": {
    "name": "ipython",
    "version": 3
   },
   "file_extension": ".py",
   "mimetype": "text/x-python",
   "name": "python",
   "nbconvert_exporter": "python",
   "pygments_lexer": "ipython3",
   "version": "3.11.4"
  }
 },
 "nbformat": 4,
 "nbformat_minor": 5
}
