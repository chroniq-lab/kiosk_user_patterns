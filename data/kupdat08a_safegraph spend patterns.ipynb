{
 "cells": [
  {
   "cell_type": "code",
   "execution_count": 3,
   "id": "acba09ae",
   "metadata": {},
   "outputs": [],
   "source": [
    "import sys\n",
    "import os\n",
    "from pathlib import Path\n",
    "import pyarrow.parquet as pq\n",
    "import pyarrow.dataset as ds\n",
    "import pandas as pd\n",
    "import matplotlib.pyplot as plt\n",
    "sys.path.append(str(Path.cwd().parent))\n",
    "from config import PATH_KIOSK_USER_PATTERNS_FOLDER, PATH_KIOSK_USER_PATTERNS_REPO, PATH_DATA_SHARING_FOLDER\n",
    "\n",
    "# Example usage\n",
    "kupdat03_path = PATH_DATA_SHARING_FOLDER /'DEWEY'\n",
    "execfile(PATH_KIOSK_USER_PATTERNS_REPO / 'constants.py')\n",
    "execfile(PATH_KIOSK_USER_PATTERNS_REPO / 'functions/extract_file_list.py')\n"
   ]
  },
  {
   "cell_type": "code",
   "execution_count": 2,
   "id": "c5d5c410",
   "metadata": {},
   "outputs": [],
   "source": [
    "# data_endpoint = \"https://app.deweydata.io/external-api/v3/products/c117bbd0-ed3a-4c05-8f3c-01ac4b12ef60/files\"\n",
    "data_endpoint = \"https://app.deweydata.io/api/v1/external/data/fldr_4nte94mocpakopiud\"\n"
   ]
  },
  {
   "cell_type": "code",
   "execution_count": null,
   "id": "8d311390",
   "metadata": {},
   "outputs": [
    {
     "name": "stdout",
     "output_type": "stream",
     "text": [
      "2018-01 to 2018-12\n",
      "Error in requests.get\n",
      "401 Client Error: Unauthorized for url: https://app.deweydata.io/api/v1/external/data/fldr_4nte94mocpakopiud/metadata\n",
      " \n",
      "Error in requests.get\n",
      "401 Client Error: Unauthorized for url: https://app.deweydata.io/api/v1/external/data/fldr_4nte94mocpakopiud/metadata\n",
      " \n"
     ]
    },
    {
     "ename": "TypeError",
     "evalue": "'NoneType' object is not subscriptable",
     "output_type": "error",
     "traceback": [
      "\u001b[1;31m---------------------------------------------------------------------------\u001b[0m",
      "\u001b[1;31mTypeError\u001b[0m                                 Traceback (most recent call last)",
      "Cell \u001b[1;32mIn[3], line 10\u001b[0m\n\u001b[0;32m      7\u001b[0m     end \u001b[38;5;241m=\u001b[39m \u001b[38;5;124m'\u001b[39m\u001b[38;5;124m2025-05\u001b[39m\u001b[38;5;124m'\u001b[39m\n\u001b[0;32m      9\u001b[0m \u001b[38;5;28mprint\u001b[39m(start \u001b[38;5;241m+\u001b[39m \u001b[38;5;124m\"\u001b[39m\u001b[38;5;124m to \u001b[39m\u001b[38;5;124m\"\u001b[39m \u001b[38;5;241m+\u001b[39m end)\n\u001b[1;32m---> 10\u001b[0m files, meta \u001b[38;5;241m=\u001b[39m \u001b[43mextract_file_list\u001b[49m\u001b[43m(\u001b[49m\u001b[43mbulk_api_safegraph_spend_patterns\u001b[49m\u001b[43m,\u001b[49m\u001b[43m \u001b[49m\u001b[43mdata_endpoint\u001b[49m\u001b[43m,\u001b[49m\u001b[43m \u001b[49m\u001b[43msd\u001b[49m\u001b[38;5;241;43m=\u001b[39;49m\u001b[43mstart\u001b[49m\u001b[43m,\u001b[49m\u001b[43m \u001b[49m\u001b[43med\u001b[49m\u001b[38;5;241;43m=\u001b[39;49m\u001b[43mend\u001b[49m\u001b[43m)\u001b[49m\n\u001b[0;32m     11\u001b[0m files\u001b[38;5;241m.\u001b[39mto_csv(PATH_KIOSK_USER_PATTERNS_REPO \u001b[38;5;241m/\u001b[39m \u001b[38;5;124m'\u001b[39m\u001b[38;5;124mdata\u001b[39m\u001b[38;5;124m'\u001b[39m \u001b[38;5;241m/\u001b[39m \u001b[38;5;124mf\u001b[39m\u001b[38;5;124m'\u001b[39m\u001b[38;5;124mkupdat08a_safegraph_spend patterns_\u001b[39m\u001b[38;5;132;01m{\u001b[39;00my\u001b[38;5;132;01m}\u001b[39;00m\u001b[38;5;124m.csv\u001b[39m\u001b[38;5;124m'\u001b[39m, index\u001b[38;5;241m=\u001b[39m\u001b[38;5;28;01mFalse\u001b[39;00m)\n\u001b[0;32m     12\u001b[0m dest_dir \u001b[38;5;241m=\u001b[39m \u001b[38;5;124mfr\u001b[39m\u001b[38;5;124m'\u001b[39m\u001b[38;5;124mR:/Global Diabetes Research Center/Patel/SafeGraph/Spend Patterns/\u001b[39m\u001b[38;5;132;01m{\u001b[39;00my\u001b[38;5;132;01m}\u001b[39;00m\u001b[38;5;124m/\u001b[39m\u001b[38;5;124m'\u001b[39m\n",
      "File \u001b[1;32mC:\\code\\external\\kiosk_user_patterns\\functions\\extract_file_list.py:15\u001b[0m, in \u001b[0;36mextract_file_list\u001b[1;34m(api_key, pp_, sd, ed)\u001b[0m\n\u001b[0;32m     10\u001b[0m \u001b[38;5;28;01mdef\u001b[39;00m \u001b[38;5;21mextract_file_list\u001b[39m(api_key, pp_,sd\u001b[38;5;241m=\u001b[39m\u001b[38;5;28;01mNone\u001b[39;00m, ed\u001b[38;5;241m=\u001b[39m\u001b[38;5;28;01mNone\u001b[39;00m):\n\u001b[0;32m     11\u001b[0m     \u001b[38;5;66;03m# https://docs.deweydata.io/docs/api-access\u001b[39;00m\n\u001b[0;32m     14\u001b[0m     meta_data \u001b[38;5;241m=\u001b[39m ddp\u001b[38;5;241m.\u001b[39mget_meta(apikey \u001b[38;5;241m=\u001b[39m api_key, dataset_path \u001b[38;5;241m=\u001b[39m pp_) \u001b[38;5;66;03m# returns a dataframe with meta information\u001b[39;00m\n\u001b[1;32m---> 15\u001b[0m     file_list \u001b[38;5;241m=\u001b[39m \u001b[43mddp\u001b[49m\u001b[38;5;241;43m.\u001b[39;49m\u001b[43mget_file_list\u001b[49m\u001b[43m(\u001b[49m\u001b[43mapikey\u001b[49m\u001b[43m \u001b[49m\u001b[38;5;241;43m=\u001b[39;49m\u001b[43m \u001b[49m\u001b[43mapi_key\u001b[49m\u001b[43m,\u001b[49m\u001b[43m \u001b[49m\u001b[43mdataset_path\u001b[49m\u001b[43m \u001b[49m\u001b[38;5;241;43m=\u001b[39;49m\u001b[43m \u001b[49m\u001b[43mpp_\u001b[49m\u001b[43m,\u001b[49m\u001b[43mstart_date\u001b[49m\u001b[38;5;241;43m=\u001b[39;49m\u001b[43msd\u001b[49m\u001b[43m,\u001b[49m\u001b[43m \u001b[49m\u001b[43mend_date\u001b[49m\u001b[38;5;241;43m=\u001b[39;49m\u001b[43med\u001b[49m\u001b[43m)\u001b[49m\n\u001b[0;32m     17\u001b[0m     \u001b[38;5;28;01mreturn\u001b[39;00m file_list, meta_data\n",
      "File \u001b[1;32mc:\\Users\\jvargh7\\AppData\\Local\\Programs\\Python\\Python311\\Lib\\site-packages\\deweydatapy\\download.py:250\u001b[0m, in \u001b[0;36mget_file_list\u001b[1;34m(apikey, dataset_path, start_page, end_page, start_date, end_date, meta, print_info)\u001b[0m\n\u001b[0;32m    233\u001b[0m \u001b[38;5;28;01mdef\u001b[39;00m \u001b[38;5;21mget_file_list\u001b[39m(apikey, dataset_path, start_page\u001b[38;5;241m=\u001b[39m\u001b[38;5;241m1\u001b[39m, end_page\u001b[38;5;241m=\u001b[39m\u001b[38;5;28mfloat\u001b[39m(\u001b[38;5;124m'\u001b[39m\u001b[38;5;124minf\u001b[39m\u001b[38;5;124m'\u001b[39m),\n\u001b[0;32m    234\u001b[0m                   start_date\u001b[38;5;241m=\u001b[39m\u001b[38;5;28;01mNone\u001b[39;00m, end_date\u001b[38;5;241m=\u001b[39m\u001b[38;5;28;01mNone\u001b[39;00m,\n\u001b[0;32m    235\u001b[0m                   meta\u001b[38;5;241m=\u001b[39m\u001b[38;5;28;01mNone\u001b[39;00m,\n\u001b[0;32m    236\u001b[0m                   print_info\u001b[38;5;241m=\u001b[39m\u001b[38;5;28;01mTrue\u001b[39;00m):\n\u001b[0;32m    237\u001b[0m \u001b[38;5;250m    \u001b[39m\u001b[38;5;124;03m\"\"\"\u001b[39;00m\n\u001b[0;32m    238\u001b[0m \u001b[38;5;124;03m    Collects the file list information from data server.\u001b[39;00m\n\u001b[0;32m    239\u001b[0m \n\u001b[1;32m   (...)\u001b[0m\n\u001b[0;32m    247\u001b[0m \u001b[38;5;124;03m    :return: A DataFrame object contains files information.\u001b[39;00m\n\u001b[0;32m    248\u001b[0m \u001b[38;5;124;03m    \"\"\"\u001b[39;00m\n\u001b[1;32m--> 250\u001b[0m     files_df, selection_meta, pages_meta \u001b[38;5;241m=\u001b[39m \u001b[43mget_file_list_full\u001b[49m\u001b[43m(\u001b[49m\u001b[43mapikey\u001b[49m\u001b[43m,\u001b[49m\u001b[43m \u001b[49m\u001b[43mdataset_path\u001b[49m\u001b[43m,\u001b[49m\n\u001b[0;32m    251\u001b[0m \u001b[43m                                                        \u001b[49m\u001b[43mstart_page\u001b[49m\u001b[43m,\u001b[49m\u001b[43m \u001b[49m\u001b[43mend_page\u001b[49m\u001b[43m,\u001b[49m\n\u001b[0;32m    252\u001b[0m \u001b[43m                                                        \u001b[49m\u001b[43mstart_date\u001b[49m\u001b[43m,\u001b[49m\u001b[43m \u001b[49m\u001b[43mend_date\u001b[49m\u001b[43m,\u001b[49m\n\u001b[0;32m    253\u001b[0m \u001b[43m                                                        \u001b[49m\u001b[43mmeta\u001b[49m\u001b[43m,\u001b[49m\n\u001b[0;32m    254\u001b[0m \u001b[43m                                                        \u001b[49m\u001b[43mprint_info\u001b[49m\u001b[43m)\u001b[49m\n\u001b[0;32m    256\u001b[0m     \u001b[38;5;28;01mreturn\u001b[39;00m files_df\n",
      "File \u001b[1;32mc:\\Users\\jvargh7\\AppData\\Local\\Programs\\Python\\Python311\\Lib\\site-packages\\deweydatapy\\download.py:142\u001b[0m, in \u001b[0;36mget_file_list_full\u001b[1;34m(apikey, dataset_path, start_page, end_page, start_date, end_date, meta, print_info)\u001b[0m\n\u001b[0;32m    140\u001b[0m page \u001b[38;5;241m=\u001b[39m start_page\n\u001b[0;32m    141\u001b[0m \u001b[38;5;28;01mwhile\u001b[39;00m \u001b[38;5;28;01mTrue\u001b[39;00m:\n\u001b[1;32m--> 142\u001b[0m     \u001b[38;5;28;01mif\u001b[39;00m(\u001b[43mmeta\u001b[49m\u001b[43m[\u001b[49m\u001b[38;5;124;43m'\u001b[39;49m\u001b[38;5;124;43mpartition_column\u001b[39;49m\u001b[38;5;124;43m'\u001b[39;49m\u001b[43m]\u001b[49m \u001b[38;5;129;01mis\u001b[39;00m \u001b[38;5;28;01mNone\u001b[39;00m):\n\u001b[0;32m    143\u001b[0m         params_ \u001b[38;5;241m=\u001b[39m {\u001b[38;5;124m'\u001b[39m\u001b[38;5;124mpage\u001b[39m\u001b[38;5;124m'\u001b[39m: page}\n\u001b[0;32m    144\u001b[0m     \u001b[38;5;28;01melse\u001b[39;00m:\n",
      "\u001b[1;31mTypeError\u001b[0m: 'NoneType' object is not subscriptable"
     ]
    }
   ],
   "source": [
    "import deweydatapy as ddp\n",
    "import os\n",
    "# Jan 01, 2019—May 01, 2025\n",
    "for y in range(2025, 2018, -1):\n",
    "    start = f\"{y}-01\"\n",
    "    end = f\"{y}-12\"\n",
    "    if pd.to_datetime(end) > pd.to_datetime('2025-05'):\n",
    "        end = '2025-05'\n",
    "\n",
    "    print(start + \" to \" + end)\n",
    "    files, meta = extract_file_list(bulk_api_safegraph_spend_patterns, data_endpoint, sd=start, ed=end)\n",
    "    files.to_csv(PATH_KIOSK_USER_PATTERNS_REPO / 'data' / f'kupdat08a_safegraph_spend patterns_{y}.csv', index=False)\n",
    "    dest_dir = fr'R:/Global Diabetes Research Center/Patel/SafeGraph/Spend Patterns/{y}/'\n",
    "    os.makedirs(dest_dir, exist_ok=True)\n",
    "    ddp.download_files(files, dest_folder = dest_dir,   skip_exists= True)"
   ]
  },
  {
   "cell_type": "markdown",
   "id": "2c59f600",
   "metadata": {},
   "source": [
    "# QC"
   ]
  },
  {
   "cell_type": "code",
   "execution_count": 5,
   "id": "392c7172",
   "metadata": {},
   "outputs": [
    {
     "name": "stdout",
     "output_type": "stream",
     "text": [
      "File size mismatch for data_01bd93b4-0105-ee24-0042-fa0702f29bee_63_0_4.csv.gz: expected 122205888, got 0\n",
      "File size mismatch for data_01bd93b4-0105-ee24-0042-fa0702f29bee_53_5_1.csv.gz: expected 209769372, got 0\n"
     ]
    }
   ],
   "source": [
    "err_list_all = pd.DataFrame()\n",
    "execfile(PATH_KIOSK_USER_PATTERNS_REPO / 'functions' /'compare_file_sizes.py')\n",
    "for y in range(2025, 2018, -1):\n",
    "    files = pd.read_csv(PATH_KIOSK_USER_PATTERNS_REPO / 'data' / f'kupdat08a_safegraph_spend patterns_{y}.csv')\n",
    "    dest_dir = fr'R:/Global Diabetes Research Center/Patel/SafeGraph/Spend Patterns/{y}'\n",
    "    result = compare_file_sizes(dest_dir, files)\n",
    "    df_result = pd.DataFrame(result)\n",
    "    df_result['year'] = y\n",
    "    err_list_all = pd.concat([err_list_all, df_result], ignore_index=True)"
   ]
  },
  {
   "cell_type": "code",
   "execution_count": 6,
   "id": "691a07d3",
   "metadata": {},
   "outputs": [
    {
     "data": {
      "text/html": [
       "<div>\n",
       "<style scoped>\n",
       "    .dataframe tbody tr th:only-of-type {\n",
       "        vertical-align: middle;\n",
       "    }\n",
       "\n",
       "    .dataframe tbody tr th {\n",
       "        vertical-align: top;\n",
       "    }\n",
       "\n",
       "    .dataframe thead th {\n",
       "        text-align: right;\n",
       "    }\n",
       "</style>\n",
       "<table border=\"1\" class=\"dataframe\">\n",
       "  <thead>\n",
       "    <tr style=\"text-align: right;\">\n",
       "      <th></th>\n",
       "      <th>file_name</th>\n",
       "      <th>file_path</th>\n",
       "      <th>expected_size</th>\n",
       "      <th>actual_size</th>\n",
       "      <th>year</th>\n",
       "    </tr>\n",
       "  </thead>\n",
       "  <tbody>\n",
       "    <tr>\n",
       "      <th>0</th>\n",
       "      <td>data_01bd93b4-0105-ee24-0042-fa0702f29bee_63_0...</td>\n",
       "      <td>R:/Global Diabetes Research Center/Patel/SafeG...</td>\n",
       "      <td>122205888</td>\n",
       "      <td>0</td>\n",
       "      <td>2024</td>\n",
       "    </tr>\n",
       "    <tr>\n",
       "      <th>1</th>\n",
       "      <td>data_01bd93b4-0105-ee24-0042-fa0702f29bee_53_5...</td>\n",
       "      <td>R:/Global Diabetes Research Center/Patel/SafeG...</td>\n",
       "      <td>209769372</td>\n",
       "      <td>0</td>\n",
       "      <td>2021</td>\n",
       "    </tr>\n",
       "  </tbody>\n",
       "</table>\n",
       "</div>"
      ],
      "text/plain": [
       "                                           file_name  \\\n",
       "0  data_01bd93b4-0105-ee24-0042-fa0702f29bee_63_0...   \n",
       "1  data_01bd93b4-0105-ee24-0042-fa0702f29bee_53_5...   \n",
       "\n",
       "                                           file_path expected_size  \\\n",
       "0  R:/Global Diabetes Research Center/Patel/SafeG...     122205888   \n",
       "1  R:/Global Diabetes Research Center/Patel/SafeG...     209769372   \n",
       "\n",
       "  actual_size  year  \n",
       "0           0  2024  \n",
       "1           0  2021  "
      ]
     },
     "execution_count": 6,
     "metadata": {},
     "output_type": "execute_result"
    }
   ],
   "source": [
    "err_list_all"
   ]
  }
 ],
 "metadata": {
  "kernelspec": {
   "display_name": "Python 3",
   "language": "python",
   "name": "python3"
  },
  "language_info": {
   "codemirror_mode": {
    "name": "ipython",
    "version": 3
   },
   "file_extension": ".py",
   "mimetype": "text/x-python",
   "name": "python",
   "nbconvert_exporter": "python",
   "pygments_lexer": "ipython3",
   "version": "3.11.4"
  }
 },
 "nbformat": 4,
 "nbformat_minor": 5
}
